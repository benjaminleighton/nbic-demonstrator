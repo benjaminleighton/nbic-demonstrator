{
 "cells": [
  {
   "attachments": {},
   "cell_type": "markdown",
   "metadata": {},
   "source": [
    "## NBIC Workflow Provena Toy Example\n",
    "\n",
    "This relies om some pre-registered components and is intended to show an example provenance enabled workflow by integrating with the provena APIs. \n",
    "\n",
    "The actual computation/validation has been stripped from the source notebook - but hopefully it will be clear where this can be reintroduced"
   ]
  },
  {
   "cell_type": "code",
   "execution_count": 1,
   "metadata": {},
   "outputs": [],
   "source": [
    "# This is a small helper class which provides a config object for validation and\n",
    "# a loader function\n",
    "import workflow_config\n",
    "\n",
    "# This is a helper function for managing authentication with Provena\n",
    "import mdsisclienttools.auth.TokenManager as ProvenaAuth"
   ]
  },
  {
   "cell_type": "code",
   "execution_count": 2,
   "metadata": {},
   "outputs": [],
   "source": [
    "# Provena config\n",
    "stage = \"DEV\"\n",
    "kc_endpoint = \"https://auth.dev.rrap-is.com/auth/realms/rrap\"\n",
    "registry_endpoint = \"https://registry-api.dev.rrap-is.com\""
   ]
  },
  {
   "cell_type": "code",
   "execution_count": 3,
   "metadata": {},
   "outputs": [
    {
     "name": "stdout",
     "output_type": "stream",
     "text": [
      "No storage or object provided, using default location: .tokens.json.\n",
      "Using storage type: FILE.\n",
      "Using DEVICE auth flow.\n",
      "Attempting to generate authorisation tokens.\n",
      "\n",
      "Looking for existing tokens in local storage.\n",
      "\n",
      "Validating found tokens\n",
      "\n",
      "Found tokens valid, using.\n",
      "\n"
     ]
    }
   ],
   "source": [
    "# sets up auth connections - could potentially open browser window if not signed\n",
    "# in recently - caches in .tokens.json - ensure this is included in gitignore\n",
    "provena_auth = ProvenaAuth.DeviceFlowManager(\n",
    "    stage=stage,\n",
    "    keycloak_endpoint=kc_endpoint\n",
    ")\n",
    "\n",
    "# expose the get auth function which is used for provena methods \n",
    "get_auth = provena_auth.get_auth"
   ]
  },
  {
   "cell_type": "code",
   "execution_count": 4,
   "metadata": {},
   "outputs": [
    {
     "name": "stdout",
     "output_type": "stream",
     "text": [
      "{\n",
      "  \"inputs\": {\n",
      "    \"hourly_temperature\": \"\",\n",
      "    \"relative_humidity\": \"\",\n",
      "    \"wind_speed\": \"\",\n",
      "    \"daily_mc_adf\": \"\"\n",
      "  }\n",
      "}\n"
     ]
    }
   ],
   "source": [
    "# Start by loading the config from the specified path \n",
    "\n",
    "# NOTE this could change from run to run - this holds all information required to run this model\n",
    "config_path = \"configs/workflow1.json\"\n",
    "config = workflow_config.load_config(path=config_path)\n",
    "config.pprint()\n"
   ]
  },
  {
   "cell_type": "code",
   "execution_count": 6,
   "metadata": {},
   "outputs": [
    {
     "name": "stdout",
     "output_type": "stream",
     "text": [
      "Validating registered Provena entities in config\n",
      "Validating registered inputs...\n",
      "Encountered exception while validating: . Exception: Non 200 status code in response: 500. Response: {\"detail\":\"Failed to access database. Error: An error occurred (ValidationException) when calling the GetItem operation: One or more parameter values are not valid. The AttributeValue for a key attribute cannot contain an empty string value. Key: id\"}..\n",
      "Failed inputs validation.\n",
      "FAILED VALIDATION\n"
     ]
    },
    {
     "ename": "Exception",
     "evalue": "Workflow config validation exception occurred. See output above.",
     "output_type": "error",
     "traceback": [
      "\u001b[0;31m---------------------------------------------------------------------------\u001b[0m",
      "\u001b[0;31mException\u001b[0m                                 Traceback (most recent call last)",
      "Cell \u001b[0;32mIn[6], line 7\u001b[0m\n\u001b[1;32m      5\u001b[0m \u001b[39mif\u001b[39;00m \u001b[39mnot\u001b[39;00m valid:\n\u001b[1;32m      6\u001b[0m     \u001b[39mprint\u001b[39m(\u001b[39m\"\u001b[39m\u001b[39mFAILED VALIDATION\u001b[39m\u001b[39m\"\u001b[39m)\n\u001b[0;32m----> 7\u001b[0m     \u001b[39mraise\u001b[39;00m \u001b[39mException\u001b[39;00m(\u001b[39m\"\u001b[39m\u001b[39mWorkflow config validation exception occurred. See output above.\u001b[39m\u001b[39m\"\u001b[39m)\n",
      "\u001b[0;31mException\u001b[0m: Workflow config validation exception occurred. See output above."
     ]
    }
   ],
   "source": [
    "# let's validate the workflow config - this fetches ALL items referenced in the\n",
    "# workflow json to ensure the items are valid \n",
    "valid = config.validate_entities(registry_endpoint=registry_endpoint, auth=get_auth)\n",
    "\n",
    "if not valid:\n",
    "    print(\"FAILED VALIDATION\")\n",
    "    raise Exception(\"Workflow config validation exception occurred. See output above.\")\n"
   ]
  },
  {
   "cell_type": "code",
   "execution_count": null,
   "metadata": {},
   "outputs": [],
   "source": []
  }
 ],
 "metadata": {
  "kernelspec": {
   "display_name": ".venv",
   "language": "python",
   "name": "python3"
  },
  "language_info": {
   "codemirror_mode": {
    "name": "ipython",
    "version": 3
   },
   "file_extension": ".py",
   "mimetype": "text/x-python",
   "name": "python",
   "nbconvert_exporter": "python",
   "pygments_lexer": "ipython3",
   "version": "3.10.4"
  },
  "orig_nbformat": 4
 },
 "nbformat": 4,
 "nbformat_minor": 2
}
